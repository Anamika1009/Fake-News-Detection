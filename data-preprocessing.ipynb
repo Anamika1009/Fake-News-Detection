{
 "cells": [
  {
   "cell_type": "code",
   "execution_count": null,
   "id": "c8e680a0",
   "metadata": {},
   "outputs": [],
   "source": [
    "import numpy as np\n",
    "import pandas as pd\n",
    "import os\n",
    "import seaborn as sns\n",
    "import matplotlib.pyplot as plt\n",
    "import re\n",
    "import nltk\n",
    "from nltk.corpus import stopwords\n",
    "from nltk.stem import PorterStemmer, WordNetLemmatizer\n",
    "from sklearn.model_selection import train_test_split\n",
    "from sklearn.feature_extraction.text import TfidfVectorizer, CountVectorizer\n",
    "from sklearn.naive_bayes import MultinomialNB\n",
    "from sklearn.metrics import accuracy_score, confusion_matrix, classification_report"
   ]
  },
  {
   "cell_type": "code",
   "execution_count": 2,
   "id": "9dba6425",
   "metadata": {},
   "outputs": [
    {
     "name": "stdout",
     "output_type": "stream",
     "text": [
      "Data loaded successfully from D:\\Fake-news-detection\\fake.csv and D:\\Fake-news-detection\\true.csv.\n"
     ]
    }
   ],
   "source": [
    "# CSV file paths function\n",
    "file_path_1 = r'D:\\Fake-news-detection\\fake.csv'\n",
    "file_path_2 = r'D:\\Fake-news-detection\\true.csv'\n",
    "def load_data(file_path_1, file_path_2):\n",
    "    \"\"\"Load data from a CSV file.\"\"\"\n",
    "    if not os.path.exists(file_path_1):\n",
    "        raise FileNotFoundError(f\"The file {file_path_1} does not exist.\")\n",
    "    if not os.path.exists(file_path_2):\n",
    "        raise FileNotFoundError(f\"The file {file_path_2} does not exist.\")\n",
    "    fakedata = pd.read_csv(file_path_1)\n",
    "    realdata = pd.read_csv(file_path_2)\n",
    "    print(f\"Data loaded successfully from {file_path_1} and {file_path_2}.\")\n",
    "    return fakedata, realdata\n",
    "\n",
    "fakedata, realdata = load_data(file_path_1, file_path_2)"
   ]
  },
  {
   "cell_type": "code",
   "execution_count": 3,
   "id": "ac070279",
   "metadata": {},
   "outputs": [
    {
     "name": "stdout",
     "output_type": "stream",
     "text": [
      "Fake news shape: (23481, 4)\n",
      "True news shape: (21417, 4)\n"
     ]
    }
   ],
   "source": [
    "#Data's shape (rowa and columns)\n",
    "print(\"Fake news shape:\", fakedata.shape)\n",
    "print(\"True news shape:\", realdata.shape)\n"
   ]
  },
  {
   "cell_type": "code",
   "execution_count": 4,
   "id": "c4a0f27d",
   "metadata": {},
   "outputs": [
    {
     "name": "stdout",
     "output_type": "stream",
     "text": [
      "\n",
      "Fake News Sample:\n",
      "                                               title  \\\n",
      "0   Donald Trump Sends Out Embarrassing New Year’...   \n",
      "1   Drunk Bragging Trump Staffer Started Russian ...   \n",
      "2   Sheriff David Clarke Becomes An Internet Joke...   \n",
      "3   Trump Is So Obsessed He Even Has Obama’s Name...   \n",
      "4   Pope Francis Just Called Out Donald Trump Dur...   \n",
      "\n",
      "                                                text subject  \\\n",
      "0  Donald Trump just couldn t wish all Americans ...    News   \n",
      "1  House Intelligence Committee Chairman Devin Nu...    News   \n",
      "2  On Friday, it was revealed that former Milwauk...    News   \n",
      "3  On Christmas day, Donald Trump announced that ...    News   \n",
      "4  Pope Francis used his annual Christmas Day mes...    News   \n",
      "\n",
      "                date  \n",
      "0  December 31, 2017  \n",
      "1  December 31, 2017  \n",
      "2  December 30, 2017  \n",
      "3  December 29, 2017  \n",
      "4  December 25, 2017  \n",
      "\n",
      "True News Sample:\n",
      "                                               title  \\\n",
      "0  As U.S. budget fight looms, Republicans flip t...   \n",
      "1  U.S. military to accept transgender recruits o...   \n",
      "2  Senior U.S. Republican senator: 'Let Mr. Muell...   \n",
      "3  FBI Russia probe helped by Australian diplomat...   \n",
      "4  Trump wants Postal Service to charge 'much mor...   \n",
      "\n",
      "                                                text       subject  \\\n",
      "0  WASHINGTON (Reuters) - The head of a conservat...  politicsNews   \n",
      "1  WASHINGTON (Reuters) - Transgender people will...  politicsNews   \n",
      "2  WASHINGTON (Reuters) - The special counsel inv...  politicsNews   \n",
      "3  WASHINGTON (Reuters) - Trump campaign adviser ...  politicsNews   \n",
      "4  SEATTLE/WASHINGTON (Reuters) - President Donal...  politicsNews   \n",
      "\n",
      "                 date  \n",
      "0  December 31, 2017   \n",
      "1  December 29, 2017   \n",
      "2  December 31, 2017   \n",
      "3  December 30, 2017   \n",
      "4  December 29, 2017   \n"
     ]
    }
   ],
   "source": [
    "# First 5 rows check karne ke liye\n",
    "print(\"\\nFake News Sample:\")\n",
    "print(fakedata.head())\n",
    "\n",
    "print(\"\\nTrue News Sample:\")\n",
    "print(realdata.head())"
   ]
  },
  {
   "cell_type": "code",
   "execution_count": 5,
   "id": "8f7134ff",
   "metadata": {},
   "outputs": [
    {
     "name": "stdout",
     "output_type": "stream",
     "text": [
      "\n",
      "Fake News Description:\n",
      "                                                    title   text subject  \\\n",
      "count                                               23481  23481   23481   \n",
      "unique                                              17903  17455       6   \n",
      "top     MEDIA IGNORES Time That Bill Clinton FIRED His...           News   \n",
      "freq                                                    6    626    9050   \n",
      "\n",
      "                date  \n",
      "count          23481  \n",
      "unique          1681  \n",
      "top     May 10, 2017  \n",
      "freq              46  \n",
      "\n",
      "True News Description:\n",
      "                                                    title  \\\n",
      "count                                               21417   \n",
      "unique                                              20826   \n",
      "top     Factbox: Trump fills top jobs for his administ...   \n",
      "freq                                                   14   \n",
      "\n",
      "                                                     text       subject  \\\n",
      "count                                               21417         21417   \n",
      "unique                                              21192             2   \n",
      "top     (Reuters) - Highlights for U.S. President Dona...  politicsNews   \n",
      "freq                                                    8         11272   \n",
      "\n",
      "                      date  \n",
      "count                21417  \n",
      "unique                 716  \n",
      "top     December 20, 2017   \n",
      "freq                   182  \n"
     ]
    }
   ],
   "source": [
    "# Description of the datasets\n",
    "print(\"\\nFake News Description:\")\n",
    "print(fakedata.describe(include='all'))\n",
    "print(\"\\nTrue News Description:\")\n",
    "print(realdata.describe(include='all'))"
   ]
  },
  {
   "cell_type": "code",
   "execution_count": 6,
   "id": "59b73286",
   "metadata": {},
   "outputs": [
    {
     "name": "stdout",
     "output_type": "stream",
     "text": [
      "\n",
      "Missing values in Fake News dataset:\n",
      "title      0\n",
      "text       0\n",
      "subject    0\n",
      "date       0\n",
      "dtype: int64\n",
      "\n",
      "Missing values in True News dataset:\n",
      "title      0\n",
      "text       0\n",
      "subject    0\n",
      "date       0\n",
      "dtype: int64\n"
     ]
    }
   ],
   "source": [
    "# Check for missing values\n",
    "print(\"\\nMissing values in Fake News dataset:\")\n",
    "print(fakedata.isnull().sum())\n",
    "print(\"\\nMissing values in True News dataset:\")\n",
    "print(realdata.isnull().sum())"
   ]
  },
  {
   "cell_type": "code",
   "execution_count": 7,
   "id": "f4804c22",
   "metadata": {},
   "outputs": [
    {
     "name": "stdout",
     "output_type": "stream",
     "text": [
      "Fake.csv duplicates count: 3\n",
      "True.csv duplicates count: 206\n",
      "\n",
      "Sample duplicate rows from Fake dataset:\n",
      "                                                   title  \\\n",
      "9942   HILLARY TWEETS MESSAGE In Defense Of DACA…OOPS...   \n",
      "11446  FORMER DEMOCRAT WARNS Young Americans: “Rioter...   \n",
      "14925  [VIDEO] #BlackLivesMatter Terrorists Storm Dar...   \n",
      "\n",
      "                                                    text   subject  \\\n",
      "9942   No time to waste   we've got to fight with eve...  politics   \n",
      "11446   Who is silencing political speech, physically...  politics   \n",
      "14925  They were probably just looking for a  safe sp...  politics   \n",
      "\n",
      "               date  \n",
      "9942    Sep 9, 2017  \n",
      "11446  Mar 10, 2017  \n",
      "14925  Nov 16, 2015  \n",
      "\n",
      "Sample duplicate rows from True dataset:\n",
      "                                                 title  \\\n",
      "445  Senate tax bill stalls on deficit-focused 'tri...   \n",
      "778  Trump warns 'rogue regime' North Korea of grav...   \n",
      "892  Republicans unveil tax cut bill, but the hard ...   \n",
      "896  Trump taps Fed centrist Powell to lead U.S. ce...   \n",
      "974  Two ex-Trump aides charged in Russia probe, th...   \n",
      "\n",
      "                                                  text       subject  \\\n",
      "445  WASHINGTON (Reuters) - The U.S. Senate on Thur...  politicsNews   \n",
      "778  BEIJING (Reuters) - U.S. President Donald Trum...  politicsNews   \n",
      "892  WASHINGTON (Reuters) - U.S. House of Represent...  politicsNews   \n",
      "896  WASHINGTON (Reuters) - President Donald Trump ...  politicsNews   \n",
      "974  WASHINGTON (Reuters) - Federal investigators p...  politicsNews   \n",
      "\n",
      "                   date  \n",
      "445  November 30, 2017   \n",
      "778   November 8, 2017   \n",
      "892   November 2, 2017   \n",
      "896   November 2, 2017   \n",
      "974   October 30, 2017   \n"
     ]
    }
   ],
   "source": [
    "# Fake dataset duplicates\n",
    "dup_fake = fakedata[fakedata.duplicated()]\n",
    "print(\"Fake.csv duplicates count:\", dup_fake.shape[0])\n",
    "\n",
    "# True dataset duplicates\n",
    "dup_true = realdata[realdata.duplicated()]\n",
    "print(\"True.csv duplicates count:\", dup_true.shape[0])\n",
    "\n",
    "print(\"\\nSample duplicate rows from Fake dataset:\")\n",
    "print(dup_fake.head())\n",
    "\n",
    "print(\"\\nSample duplicate rows from True dataset:\")\n",
    "print(dup_true.head())"
   ]
  },
  {
   "cell_type": "code",
   "execution_count": 8,
   "id": "9f91a914",
   "metadata": {},
   "outputs": [
    {
     "name": "stdout",
     "output_type": "stream",
     "text": [
      "Duplicates removed.\n"
     ]
    }
   ],
   "source": [
    "# Remove duplicates\n",
    "fakedata = fakedata.drop_duplicates()\n",
    "realdata = realdata.drop_duplicates()\n",
    "print(\"Duplicates removed.\")"
   ]
  },
  {
   "cell_type": "code",
   "execution_count": 9,
   "id": "db97d82d",
   "metadata": {},
   "outputs": [
    {
     "name": "stdout",
     "output_type": "stream",
     "text": [
      "(23478, 4)\n",
      "(21211, 4)\n"
     ]
    }
   ],
   "source": [
    "print (fakedata.shape)\n",
    "print (realdata.shape)"
   ]
  },
  {
   "cell_type": "code",
   "execution_count": 10,
   "id": "0f717a11",
   "metadata": {},
   "outputs": [],
   "source": [
    "# Add labels to the datasets (1 for fake, 0 for true) \"Also called as label encoding\"\n",
    "fakedata['label'] = 1\n",
    "realdata['label'] = 0"
   ]
  },
  {
   "cell_type": "code",
   "execution_count": 11,
   "id": "a531754d",
   "metadata": {},
   "outputs": [
    {
     "name": "stdout",
     "output_type": "stream",
     "text": [
      "Datasets combined.\n",
      "Combined dataset shape: (44689, 5)\n",
      "                                               title  \\\n",
      "0   Donald Trump Sends Out Embarrassing New Year’...   \n",
      "1   Drunk Bragging Trump Staffer Started Russian ...   \n",
      "2   Sheriff David Clarke Becomes An Internet Joke...   \n",
      "3   Trump Is So Obsessed He Even Has Obama’s Name...   \n",
      "4   Pope Francis Just Called Out Donald Trump Dur...   \n",
      "\n",
      "                                                text subject  \\\n",
      "0  Donald Trump just couldn t wish all Americans ...    News   \n",
      "1  House Intelligence Committee Chairman Devin Nu...    News   \n",
      "2  On Friday, it was revealed that former Milwauk...    News   \n",
      "3  On Christmas day, Donald Trump announced that ...    News   \n",
      "4  Pope Francis used his annual Christmas Day mes...    News   \n",
      "\n",
      "                date  label  \n",
      "0  December 31, 2017      1  \n",
      "1  December 31, 2017      1  \n",
      "2  December 30, 2017      1  \n",
      "3  December 29, 2017      1  \n",
      "4  December 25, 2017      1  \n"
     ]
    }
   ],
   "source": [
    "# Combine the datasets\n",
    "data = pd.concat([fakedata, realdata], ignore_index=True)\n",
    "print(\"Datasets combined.\")\n",
    "print(\"Combined dataset shape:\", data.shape)\n",
    "print(data.head())"
   ]
  },
  {
   "cell_type": "code",
   "execution_count": 12,
   "id": "91c8a202",
   "metadata": {},
   "outputs": [
    {
     "name": "stdout",
     "output_type": "stream",
     "text": [
      "Combined dataset shuffled.\n",
      "                                               title  \\\n",
      "0  WOW! LEFTIST LIBRARIAN REJECTS Shipment Of Chi...   \n",
      "1  Kenya opposition leader calls for calm in slum...   \n",
      "2  Egypt rejects U.S. decision to move its embass...   \n",
      "3  (AUDIO)NATION OF ISLAM LEADER FARRAKHAN: “WE W...   \n",
      "4   Trump Rally Nearly Turns Into A Full-Blown Ra...   \n",
      "\n",
      "                                                text    subject  \\\n",
      "0  A school librarian in Cambridge, Massachusetts...  left-news   \n",
      "1  NAIROBI (Reuters) - Kenyan opposition leader R...  worldnews   \n",
      "2  CAIRO (Reuters) - Egypt rejected the U.S. deci...  worldnews   \n",
      "3  After a recent speech given by Minister Louis ...  left-news   \n",
      "4  Tensions ran high outside of a campaign rally ...       News   \n",
      "\n",
      "                date  label  \n",
      "0       Sep 28, 2017      1  \n",
      "1  October 29, 2017       0  \n",
      "2  December 6, 2017       0  \n",
      "3        May 8, 2015      1  \n",
      "4     March 11, 2016      1  \n",
      "label\n",
      "1    23478\n",
      "0    21211\n",
      "Name: count, dtype: int64\n",
      "\n",
      "Missing values in combined dataset:\n",
      "title      0\n",
      "text       0\n",
      "subject    0\n",
      "date       0\n",
      "label      0\n",
      "dtype: int64\n"
     ]
    }
   ],
   "source": [
    "# Shuffle the combined dataset\n",
    "data = data.sample(frac=1, random_state=42).reset_index(drop=True)\n",
    "print(\"Combined dataset shuffled.\")\n",
    "print(data.head())\n",
    "print(data['label'].value_counts())\n",
    "# Check for missing values in the combined dataset\n",
    "print(\"\\nMissing values in combined dataset:\")\n",
    "print(data.isnull().sum())"
   ]
  },
  {
   "cell_type": "code",
   "execution_count": 13,
   "id": "1105c5f5",
   "metadata": {},
   "outputs": [
    {
     "data": {
      "image/png": "[encoded data removed]",
      "text/plain": [
       "<Figure size 640x480 with 1 Axes>"
      ]
     },
     "metadata": {},
     "output_type": "display_data"
    }
   ],
   "source": [
    "# Visualize the class distribution\n",
    "import matplotlib.pyplot as plt\n",
    "sns.countplot(x='label', data=data)\n",
    "plt.title('Class Distribution')\n",
    "plt.xlabel('Label (0: True, 1: Fake)')\n",
    "plt.ylabel('Count')\n",
    "plt.show()"
   ]
  },
  {
   "cell_type": "markdown",
   "id": "9ddeee0e",
   "metadata": {},
   "source": [
    "TEXT PROCESSING"
   ]
  },
  {
   "cell_type": "code",
   "execution_count": null,
   "id": "1b0c2b7f",
   "metadata": {},
   "outputs": [],
   "source": [
    "'''Text Preprocessing Function\n",
    "nltk.download('stopwords')\n",
    "\n",
    "def text_processing(text):\n",
    "    text = text.lower()\n",
    "    text = re.sub(r'\\W', ' ', text)  # Remove all non-word characters\n",
    "    text = re.sub(r'\\s+', ' ', text)  # Remove multiple spaces\n",
    "    text = re.sub(r'\\d', ' ', text)  # Remove digits\n",
    "    text = re.sub(r\"https?://\\S+|www\\.\\S+\", ' ', text)  # Remove URLs\n",
    "    text = re.sub(r'<.*?>', ' ', text)  # Remove HTML tags\n",
    "    text = text.strip()  # Remove leading and trailing spaces\n",
    "    tokens = text.split()\n",
    "    tokens = [word for word in tokens if word not in stopwords.words('english')]\n",
    "    lemmatizer = WordNetLemmatizer()\n",
    "    tokens = [lemmatizer.lemmatize(word) for word in tokens]\n",
    "    return ' '.join(tokens)\n",
    "data['text'] = data['text'].apply(text_processing)\n",
    "print(\"Text preprocessing completed.\")\n",
    "print(data.head())'''"
   ]
  },
  {
   "cell_type": "code",
   "execution_count": 15,
   "id": "55941503",
   "metadata": {},
   "outputs": [
    {
     "name": "stderr",
     "output_type": "stream",
     "text": [
      "[nltk_data] Downloading package stopwords to\n",
      "[nltk_data]     C:\\Users\\Anamika\\AppData\\Roaming\\nltk_data...\n",
      "[nltk_data]   Package stopwords is already up-to-date!\n",
      "[nltk_data] Downloading package wordnet to\n",
      "[nltk_data]     C:\\Users\\Anamika\\AppData\\Roaming\\nltk_data...\n",
      "[nltk_data]   Package wordnet is already up-to-date!\n"
     ]
    }
   ],
   "source": [
    "import re\n",
    "import nltk\n",
    "from nltk.corpus import stopwords\n",
    "from nltk.stem import WordNetLemmatizer\n",
    "\n",
    "nltk.download('stopwords')\n",
    "nltk.download('wordnet')\n",
    "\n",
    "stop_words = set(stopwords.words('english'))  # load once\n",
    "lemmatizer = WordNetLemmatizer()              # create once\n",
    "\n",
    "def text_processing(text):\n",
    "    text = text.lower()\n",
    "    text = re.sub(r'\\W', ' ', text)\n",
    "    text = re.sub(r'\\s+', ' ', text)\n",
    "    text = re.sub(r'\\d', ' ', text)\n",
    "    text = re.sub(r\"https?://\\S+|www\\.\\S+\", ' ', text)\n",
    "    text = re.sub(r'<.*?>', ' ', text)\n",
    "    text = text.strip()\n",
    "    tokens = text.split()\n",
    "    tokens = [lemmatizer.lemmatize(word) for word in tokens if word not in stop_words]\n",
    "    return ' '.join(tokens)\n",
    "\n",
    "data['text'] = data['text'].apply(text_processing)\n"
   ]
  },
  {
   "cell_type": "code",
   "execution_count": 16,
   "id": "106185b5",
   "metadata": {},
   "outputs": [
    {
     "name": "stdout",
     "output_type": "stream",
     "text": [
      "Text preprocessing completed.\n",
      "                                               title  \\\n",
      "0  WOW! LEFTIST LIBRARIAN REJECTS Shipment Of Chi...   \n",
      "1  Kenya opposition leader calls for calm in slum...   \n",
      "2  Egypt rejects U.S. decision to move its embass...   \n",
      "3  (AUDIO)NATION OF ISLAM LEADER FARRAKHAN: “WE W...   \n",
      "4   Trump Rally Nearly Turns Into A Full-Blown Ra...   \n",
      "\n",
      "                                                text    subject  \\\n",
      "0  school librarian cambridge massachusetts rejec...  left-news   \n",
      "1  nairobi reuters kenyan opposition leader raila...  worldnews   \n",
      "2  cairo reuters egypt rejected u decision move e...  worldnews   \n",
      "3  recent speech given minister louis farrakhan t...  left-news   \n",
      "4  tension ran high outside campaign rally donald...       News   \n",
      "\n",
      "                date  label  \n",
      "0       Sep 28, 2017      1  \n",
      "1  October 29, 2017       0  \n",
      "2  December 6, 2017       0  \n",
      "3        May 8, 2015      1  \n",
      "4     March 11, 2016      1  \n"
     ]
    }
   ],
   "source": [
    "print(\"Text preprocessing completed.\")\n",
    "print(data.head())"
   ]
  },
  {
   "cell_type": "code",
   "execution_count": 17,
   "id": "a2c7c9f0",
   "metadata": {},
   "outputs": [
    {
     "name": "stdout",
     "output_type": "stream",
     "text": [
      "Preprocessed data saved to D:\\Fake-news-detection\\preprocessed_data.csv.\n"
     ]
    }
   ],
   "source": [
    "output_file_path = r'D:\\Fake-news-detection\\preprocessed_data.csv'\n",
    "data.to_csv(output_file_path, index=False)\n",
    "print(f\"Preprocessed data saved to {output_file_path}.\")"
   ]
  }
 ],
 "metadata": {
  "kernelspec": {
   "display_name": ".venv (3.13.5)",
   "language": "python",
   "name": "python3"
  },
  "language_info": {
   "codemirror_mode": {
    "name": "ipython",
    "version": 3
   },
   "file_extension": ".py",
   "mimetype": "text/x-python",
   "name": "python",
   "nbconvert_exporter": "python",
   "pygments_lexer": "ipython3",
   "version": "3.13.5"
  }
 },
 "nbformat": 4,
 "nbformat_minor": 5
}
